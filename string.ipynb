{
  "nbformat": 4,
  "nbformat_minor": 0,
  "metadata": {
    "colab": {
      "provenance": [],
      "authorship_tag": "ABX9TyPxP5zvUf6g55OxGN26BZzU",
      "include_colab_link": true
    },
    "kernelspec": {
      "name": "python3",
      "display_name": "Python 3"
    },
    "language_info": {
      "name": "python"
    }
  },
  "cells": [
    {
      "cell_type": "markdown",
      "metadata": {
        "id": "view-in-github",
        "colab_type": "text"
      },
      "source": [
        "<a href=\"https://colab.research.google.com/github/justtrying23/py/blob/main/string.ipynb\" target=\"_parent\"><img src=\"https://colab.research.google.com/assets/colab-badge.svg\" alt=\"Open In Colab\"/></a>"
      ]
    },
    {
      "cell_type": "code",
      "source": [
        "a=input()\n",
        "xlen=len(a)\n",
        "str=\"\"\n",
        "for i in range(xlen):\n",
        "    xlen-=1\n",
        "    str+=a[xlen]\n",
        "\n",
        "print(str)"
      ],
      "metadata": {
        "colab": {
          "base_uri": "https://localhost:8080/"
        },
        "id": "DJ5fYXSb1Mph",
        "outputId": "e51b0f51-20dd-4b0b-e342-feab0f6d8ec1"
      },
      "execution_count": null,
      "outputs": [
        {
          "output_type": "stream",
          "name": "stdout",
          "text": [
            "hello\n",
            "olleh\n"
          ]
        }
      ]
    },
    {
      "cell_type": "code",
      "source": [
        "a=input()\n",
        "x=a.split()\n",
        "print(x)\n",
        "xlen=len(x)\n",
        "rev=\"\"\n",
        "for i in range(xlen):\n",
        "  b=x[i]\n",
        "  l=len(b)\n",
        "  str=\"\"+\" \"\n",
        "  while l>0:\n",
        "     l-=1\n",
        "     str+=b[l]\n",
        "\n",
        "  rev+=str\n",
        "\n",
        "\n",
        "print(rev)"
      ],
      "metadata": {
        "id": "ORklbEQINZIt",
        "colab": {
          "base_uri": "https://localhost:8080/"
        },
        "outputId": "ba806850-05a2-40b7-be27-ebbb6d1c284a"
      },
      "execution_count": null,
      "outputs": [
        {
          "output_type": "stream",
          "name": "stdout",
          "text": [
            "my name is nisha\n",
            "['my', 'name', 'is', 'nisha']\n",
            " ym eman si ahsin\n"
          ]
        }
      ]
    },
    {
      "cell_type": "code",
      "source": [
        "#count number of words in a string\n",
        "a=input()\n",
        "x=a.split()\n",
        "print(x)\n",
        "xlen=len(x)\n",
        "for i in range(xlen):\n",
        "  b=x[i]\n",
        "  time=0\n",
        "  for j in range(xlen):\n",
        "    if b==x[j]:\n",
        "      time+=1\n",
        "  print(x[i],\"=\",time)\n"
      ],
      "metadata": {
        "id": "Zf39-rYSe4x5",
        "colab": {
          "base_uri": "https://localhost:8080/"
        },
        "outputId": "85d2c27d-9a12-4d90-dc71-01109691fcbe"
      },
      "execution_count": null,
      "outputs": [
        {
          "output_type": "stream",
          "name": "stdout",
          "text": [
            " Cozy gatherings and the warmth of crackling fires paint a canvas of tranquility, as nature embraces a serene hibernation.\n",
            "['Cozy', 'gatherings', 'and', 'the', 'warmth', 'of', 'crackling', 'fires', 'paint', 'a', 'canvas', 'of', 'tranquility,', 'as', 'nature', 'embraces', 'a', 'serene', 'hibernation.']\n",
            "Cozy = 1\n",
            "gatherings = 1\n",
            "and = 1\n",
            "the = 1\n",
            "warmth = 1\n",
            "of = 2\n",
            "crackling = 1\n",
            "fires = 1\n",
            "paint = 1\n",
            "a = 2\n",
            "canvas = 1\n",
            "of = 2\n",
            "tranquility, = 1\n",
            "as = 1\n",
            "nature = 1\n",
            "embraces = 1\n",
            "a = 2\n",
            "serene = 1\n",
            "hibernation. = 1\n"
          ]
        }
      ]
    },
    {
      "cell_type": "code",
      "source": [
        "#remove charecters on odd index in a word\n",
        "a=input()\n",
        "x=list(a)\n",
        "xlen=len(x)\n",
        "str=\"\"\n",
        "i=1\n",
        "for j in range(xlen):\n",
        "  if i%2==0:\n",
        "      str+=x[j]+\" \"\n",
        "  i+=1\n",
        "\n",
        "print(a,\"After rmoving odd charecters-\",str)\n"
      ],
      "metadata": {
        "id": "CiPnrELze9az",
        "colab": {
          "base_uri": "https://localhost:8080/"
        },
        "outputId": "def150d6-3d87-4e05-8ed5-6368d031186a"
      },
      "execution_count": null,
      "outputs": [
        {
          "output_type": "stream",
          "name": "stdout",
          "text": [
            "hibernation\n",
            "hibernation After rmoving odd charecters- i e n t o \n"
          ]
        }
      ]
    }
  ]
}