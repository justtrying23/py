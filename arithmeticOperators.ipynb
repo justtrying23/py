{
  "nbformat": 4,
  "nbformat_minor": 0,
  "metadata": {
    "colab": {
      "provenance": [],
      "authorship_tag": "ABX9TyMzuMYJUv689oKubo3bB555",
      "include_colab_link": true
    },
    "kernelspec": {
      "name": "python3",
      "display_name": "Python 3"
    },
    "language_info": {
      "name": "python"
    }
  },
  "cells": [
    {
      "cell_type": "markdown",
      "metadata": {
        "id": "view-in-github",
        "colab_type": "text"
      },
      "source": [
        "<a href=\"https://colab.research.google.com/github/justtrying23/py/blob/main/arithmeticOperators.ipynb\" target=\"_parent\"><img src=\"https://colab.research.google.com/assets/colab-badge.svg\" alt=\"Open In Colab\"/></a>"
      ]
    },
    {
      "cell_type": "code",
      "execution_count": null,
      "metadata": {
        "id": "aWhmtO7pi6hE"
      },
      "outputs": [],
      "source": [
        "c=input(\"enter value\")\n",
        "print(type(c))\n",
        "a=int(c)\n",
        "print(a)\n",
        "print(type(a))"
      ]
    },
    {
      "cell_type": "code",
      "source": [
        "a=input(\"enter value\")\n",
        "b=input(\"enter value\")\n",
        "c=int(a)+int(b)\n",
        "print(\"add\",c)\n",
        "c=int(a)-int(b)\n",
        "print(\"subtract\",c)\n",
        "c=int(a)*int(b)\n",
        "print(\"multiply\",c)\n",
        "c=int(a)/int(b)\n",
        "print(\"divide\",c)\n"
      ],
      "metadata": {
        "id": "_KvYMKezrAW-"
      },
      "execution_count": null,
      "outputs": []
    },
    {
      "cell_type": "code",
      "source": [
        "a=input(\"enter value\")\n",
        "b=input(\"enter value\")\n",
        "c=int(a)-int(b)\n",
        "print(c)\n"
      ],
      "metadata": {
        "id": "Ovsy7rZgrImR"
      },
      "execution_count": null,
      "outputs": []
    },
    {
      "cell_type": "code",
      "source": [
        "a=input(\"enter value\")\n",
        "b=input(\"enter value\")\n",
        "c=int(a)*int(b)\n",
        "print(c)\n"
      ],
      "metadata": {
        "id": "ZDAI7fKnreCM"
      },
      "execution_count": null,
      "outputs": []
    },
    {
      "cell_type": "code",
      "source": [
        "a=input(\"enter value\")\n",
        "b=input(\"enter value\")\n",
        "c=int(a)/int(b)\n",
        "print(c)\n"
      ],
      "metadata": {
        "id": "LFN5Kcc9rlEk"
      },
      "execution_count": null,
      "outputs": []
    },
    {
      "cell_type": "code",
      "source": [
        "a=input(\"enter\")\n",
        "print(type(a))\n",
        "a=bool(a)\n",
        "print(a)\n",
        "print(type(a))"
      ],
      "metadata": {
        "id": "GAri81LuuZ-8"
      },
      "execution_count": null,
      "outputs": []
    }
  ]
}