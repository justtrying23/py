{
  "nbformat": 4,
  "nbformat_minor": 0,
  "metadata": {
    "colab": {
      "provenance": [],
      "authorship_tag": "ABX9TyOnVnrSBEQia+1oGmVCF31K",
      "include_colab_link": true
    },
    "kernelspec": {
      "name": "python3",
      "display_name": "Python 3"
    },
    "language_info": {
      "name": "python"
    }
  },
  "cells": [
    {
      "cell_type": "markdown",
      "metadata": {
        "id": "view-in-github",
        "colab_type": "text"
      },
      "source": [
        "<a href=\"https://colab.research.google.com/github/justtrying23/py/blob/main/python.ipynb\" target=\"_parent\"><img src=\"https://colab.research.google.com/assets/colab-badge.svg\" alt=\"Open In Colab\"/></a>"
      ]
    },
    {
      "cell_type": "code",
      "execution_count": null,
      "metadata": {
        "id": "aWhmtO7pi6hE"
      },
      "outputs": [],
      "source": [
        "c=input(\"enter value\")\n",
        "print(type(c))\n",
        "a=int(c)\n",
        "print(a)\n",
        "print(type(a))"
      ]
    },
    {
      "cell_type": "code",
      "source": [
        "a=input(\"enter value\")\n",
        "b=input(\"enter value\")\n",
        "c=int(a)+int(b)\n",
        "print(\"add\",c)\n",
        "c=int(a)-int(b)\n",
        "print(\"subtract\",c)\n",
        "c=int(a)*int(b)\n",
        "print(\"multiply\",c)\n",
        "c=int(a)/int(b)\n",
        "print(\"divide\",c)\n"
      ],
      "metadata": {
        "colab": {
          "base_uri": "https://localhost:8080/"
        },
        "id": "_KvYMKezrAW-",
        "outputId": "8e9a0261-9bea-4bb2-94e8-2dab6cb0f924"
      },
      "execution_count": null,
      "outputs": [
        {
          "output_type": "stream",
          "name": "stdout",
          "text": [
            "enter value100\n",
            "enter value50\n",
            "add 150\n",
            "subtract 50\n",
            "multiply 5000\n",
            "divide 2.0\n"
          ]
        }
      ]
    },
    {
      "cell_type": "code",
      "source": [
        "a=input(\"enter value\")\n",
        "b=input(\"enter value\")\n",
        "c=int(a)-int(b)\n",
        "print(c)\n"
      ],
      "metadata": {
        "id": "Ovsy7rZgrImR"
      },
      "execution_count": null,
      "outputs": []
    },
    {
      "cell_type": "code",
      "source": [
        "a=input(\"enter value\")\n",
        "b=input(\"enter value\")\n",
        "c=int(a)*int(b)\n",
        "print(c)\n"
      ],
      "metadata": {
        "id": "ZDAI7fKnreCM"
      },
      "execution_count": null,
      "outputs": []
    },
    {
      "cell_type": "code",
      "source": [
        "a=input(\"enter value\")\n",
        "b=input(\"enter value\")\n",
        "c=int(a)/int(b)\n",
        "print(c)\n"
      ],
      "metadata": {
        "id": "LFN5Kcc9rlEk"
      },
      "execution_count": null,
      "outputs": []
    }
  ]
}