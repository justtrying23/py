{
  "nbformat": 4,
  "nbformat_minor": 0,
  "metadata": {
    "colab": {
      "provenance": [],
      "authorship_tag": "ABX9TyPj8zHjOz0SzsqRL+6UVGRE",
      "include_colab_link": true
    },
    "kernelspec": {
      "name": "python3",
      "display_name": "Python 3"
    },
    "language_info": {
      "name": "python"
    }
  },
  "cells": [
    {
      "cell_type": "markdown",
      "metadata": {
        "id": "view-in-github",
        "colab_type": "text"
      },
      "source": [
        "<a href=\"https://colab.research.google.com/github/justtrying23/py/blob/main/function.ipynb\" target=\"_parent\"><img src=\"https://colab.research.google.com/assets/colab-badge.svg\" alt=\"Open In Colab\"/></a>"
      ]
    },
    {
      "cell_type": "code",
      "source": [
        "def sum(x,y):\n",
        "  print(x+y)\n",
        "\n",
        "\n",
        "a=int(input(\"enter\"))\n",
        "b=int(input(\"enter\"))\n",
        "sum(a,b)"
      ],
      "metadata": {
        "id": "qcktOP_ZAPEo",
        "colab": {
          "base_uri": "https://localhost:8080/"
        },
        "outputId": "26d4dd93-ced0-44d5-c153-1af32bcdc2a8"
      },
      "execution_count": 1,
      "outputs": [
        {
          "output_type": "stream",
          "name": "stdout",
          "text": [
            "enter5\n",
            "enter15\n",
            "20\n"
          ]
        }
      ]
    },
    {
      "cell_type": "code",
      "source": [
        "def arr(*arg):\n",
        "   x=len(arg)\n",
        "   print(arg[x-1])\n",
        "\n",
        "\n",
        "\n",
        "arr(51,41,13,12,11)\n",
        "arr(51,41,13,12)\n",
        "arr(51,41,13)\n",
        "arr(51,41)\n",
        "arr(51)"
      ],
      "metadata": {
        "id": "hw2_698MC-MT",
        "colab": {
          "base_uri": "https://localhost:8080/"
        },
        "outputId": "4f370f0c-aca8-45b0-b815-44d996ada71b"
      },
      "execution_count": 2,
      "outputs": [
        {
          "output_type": "stream",
          "name": "stdout",
          "text": [
            "11\n",
            "12\n",
            "13\n",
            "41\n",
            "51\n"
          ]
        }
      ]
    },
    {
      "cell_type": "code",
      "source": [
        "def add(x,y):\n",
        "  return x+y\n",
        "\n",
        "\n",
        "a=int(input())\n",
        "b=int(input())\n",
        "print(\"sum of\",a,\"and\",b,\"is\",add(a,b))\n"
      ],
      "metadata": {
        "id": "14CLs55NJT4y",
        "colab": {
          "base_uri": "https://localhost:8080/"
        },
        "outputId": "068461cf-9f1b-4919-84a1-ca3c414004b3"
      },
      "execution_count": 3,
      "outputs": [
        {
          "output_type": "stream",
          "name": "stdout",
          "text": [
            "63\n",
            "2\n",
            "sum of 63 and 2 is 65\n"
          ]
        }
      ]
    }
  ]
}